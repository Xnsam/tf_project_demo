{
  "nbformat": 4,
  "nbformat_minor": 0,
  "metadata": {
    "colab": {
      "name": "gesund_test.ipynb",
      "provenance": []
    },
    "kernelspec": {
      "name": "python3",
      "display_name": "Python 3"
    },
    "language_info": {
      "name": "python"
    }
  },
  "cells": [
    {
      "cell_type": "code",
      "metadata": {
        "colab": {
          "base_uri": "https://localhost:8080/"
        },
        "id": "Zn_Rz8JjGxxn",
        "outputId": "4a06dcea-8846-45b5-d1cc-735939cf9bdd"
      },
      "source": [
        "!git clone https://github.com/Xnsam/tf_project_demo.git"
      ],
      "execution_count": 1,
      "outputs": [
        {
          "output_type": "stream",
          "name": "stdout",
          "text": [
            "Cloning into 'tf_project_demo'...\n",
            "remote: Enumerating objects: 70, done.\u001b[K\n",
            "remote: Counting objects: 100% (70/70), done.\u001b[K\n",
            "remote: Compressing objects: 100% (48/48), done.\u001b[K\n",
            "remote: Total 70 (delta 28), reused 62 (delta 20), pack-reused 0\u001b[K\n",
            "Unpacking objects: 100% (70/70), done.\n"
          ]
        }
      ]
    },
    {
      "cell_type": "code",
      "metadata": {
        "id": "KXNoPN7CPFU6"
      },
      "source": [
        "!rm -rf /content/tf_project_demo/api_pipeline/logs\n",
        "!rm -rf /content/tf_project_demo/api_pipeline/store"
      ],
      "execution_count": 29,
      "outputs": []
    },
    {
      "cell_type": "code",
      "metadata": {
        "colab": {
          "base_uri": "https://localhost:8080/"
        },
        "id": "9Xy8PxLHGxu-",
        "outputId": "de8303f4-86b1-4f3c-c350-0999fe416eea"
      },
      "source": [
        "%%bash\n",
        "\n",
        "\n",
        "# cd /content/tf_project_demo/store/data\n",
        "# kaggle datasets download rashikrahmanpritom/covid-wwo-pneumonia-chest-xray\n",
        "# unzip /content/tf_project_demo/store/data/*.zip\n",
        "# rm -rf /content/tf_project_demo/api_pipeline/logs\n",
        "# mkdir /content/tf_project_demo/store/data/covid-wwo-pneumonia-chest-xray\n",
        "# mv /content/tf_project_demo/store/data/Data /content/tf_project_demo/store/data/covid-wwo-pneumonia-chest-xray/\n",
        "\n",
        "# mkdir /root/.kaggle\n",
        "# mv /root/kaggle.json /root/.kaggle/\n",
        "# chmod 600 /root/.kaggle/kaggle.json\n",
        "cd tf_project_demo\n",
        "# # pip install -r requirements.txt\n",
        "export PYTHONPATH=$(pwd)\n",
        "cd api_pipeline\n",
        "python api_functions.py"
      ],
      "execution_count": 45,
      "outputs": [
        {
          "output_type": "stream",
          "name": "stdout",
          "text": [
            "Get Model Details True\n",
            "Found 531 files belonging to 2 classes.\n",
            "Using 425 files for training.\n",
            "Found 531 files belonging to 2 classes.\n",
            "Using 106 files for validation.\n",
            "Dataset pipeline Run True\n",
            "Create Model True\n",
            "Epoch 1/5\n",
            "\r1/1 [==============================] - ETA: 0s - loss: 0.8811 - accuracy: 0.2500\b\b\b\b\b\b\b\b\b\b\b\b\b\b\b\b\b\b\b\b\b\b\b\b\b\b\b\b\b\b\b\b\b\b\b\b\b\b\b\b\b\b\b\b\b\b\b\b\b\b\b\b\b\b\b\b\b\b\b\b\b\b\b\b\b\b\b\b\b\b\b\b\b\b\b\b\b\b\b\b\r1/1 [==============================] - 9s 9s/step - loss: 0.8811 - accuracy: 0.2500\n",
            "Epoch 2/5\n",
            "\r1/1 [==============================] - ETA: 0s - loss: 0.7935 - accuracy: 0.3125\b\b\b\b\b\b\b\b\b\b\b\b\b\b\b\b\b\b\b\b\b\b\b\b\b\b\b\b\b\b\b\b\b\b\b\b\b\b\b\b\b\b\b\b\b\b\b\b\b\b\b\b\b\b\b\b\b\b\b\b\b\b\b\b\b\b\b\b\b\b\b\b\b\b\b\b\b\b\b\b\r1/1 [==============================] - 1s 904ms/step - loss: 0.7935 - accuracy: 0.3125\n",
            "Epoch 3/5\n",
            "\r1/1 [==============================] - ETA: 0s - loss: 0.7974 - accuracy: 0.4375\b\b\b\b\b\b\b\b\b\b\b\b\b\b\b\b\b\b\b\b\b\b\b\b\b\b\b\b\b\b\b\b\b\b\b\b\b\b\b\b\b\b\b\b\b\b\b\b\b\b\b\b\b\b\b\b\b\b\b\b\b\b\b\b\b\b\b\b\b\b\b\b\b\b\b\b\b\b\b\b\r1/1 [==============================] - 1s 814ms/step - loss: 0.7974 - accuracy: 0.4375\n",
            "Epoch 4/5\n",
            "\r1/1 [==============================] - ETA: 0s - loss: 0.7040 - accuracy: 0.6875\b\b\b\b\b\b\b\b\b\b\b\b\b\b\b\b\b\b\b\b\b\b\b\b\b\b\b\b\b\b\b\b\b\b\b\b\b\b\b\b\b\b\b\b\b\b\b\b\b\b\b\b\b\b\b\b\b\b\b\b\b\b\b\b\b\b\b\b\b\b\b\b\b\b\b\b\b\b\b\b\r1/1 [==============================] - 1s 785ms/step - loss: 0.7040 - accuracy: 0.6875\n",
            "Epoch 5/5\n",
            "\r1/1 [==============================] - ETA: 0s - loss: 0.6203 - accuracy: 0.8125\b\b\b\b\b\b\b\b\b\b\b\b\b\b\b\b\b\b\b\b\b\b\b\b\b\b\b\b\b\b\b\b\b\b\b\b\b\b\b\b\b\b\b\b\b\b\b\b\b\b\b\b\b\b\b\b\b\b\b\b\b\b\b\b\b\b\b\b\b\b\b\b\b\b\b\b\b\b\b\b\r1/1 [==============================] - 1s 838ms/step - loss: 0.6203 - accuracy: 0.8125\n",
            "Train Model True\n",
            "\r      1/Unknown - 2s 2s/step - loss: 0.5280 - accuracy: 0.9375\b\b\b\b\b\b\b\b\b\b\b\b\b\b\b\b\b\b\b\b\b\b\b\b\b\b\b\b\b\b\b\b\b\b\b\b\b\b\b\b\b\b\b\b\b\b\b\b\b\b\b\b\b\b\b\b\b\b\b\b\b\b\r      2/Unknown - 3s 685ms/step - loss: 0.5207 - accuracy: 0.9375\b\b\b\b\b\b\b\b\b\b\b\b\b\b\b\b\b\b\b\b\b\b\b\b\b\b\b\b\b\b\b\b\b\b\b\b\b\b\b\b\b\b\b\b\b\b\b\b\b\b\b\b\b\b\b\b\b\b\b\b\b\b\b\b\b\r      3/Unknown - 4s 704ms/step - loss: 0.5399 - accuracy: 0.9167\b\b\b\b\b\b\b\b\b\b\b\b\b\b\b\b\b\b\b\b\b\b\b\b\b\b\b\b\b\b\b\b\b\b\b\b\b\b\b\b\b\b\b\b\b\b\b\b\b\b\b\b\b\b\b\b\b\b\b\b\b\b\b\b\b\r      4/Unknown - 5s 710ms/step - loss: 0.5500 - accuracy: 0.8906\b\b\b\b\b\b\b\b\b\b\b\b\b\b\b\b\b\b\b\b\b\b\b\b\b\b\b\b\b\b\b\b\b\b\b\b\b\b\b\b\b\b\b\b\b\b\b\b\b\b\b\b\b\b\b\b\b\b\b\b\b\b\b\b\b\r      5/Unknown - 5s 710ms/step - loss: 0.5421 - accuracy: 0.9000\b\b\b\b\b\b\b\b\b\b\b\b\b\b\b\b\b\b\b\b\b\b\b\b\b\b\b\b\b\b\b\b\b\b\b\b\b\b\b\b\b\b\b\b\b\b\b\b\b\b\b\b\b\b\b\b\b\b\b\b\b\b\b\b\b\r      6/Unknown - 6s 716ms/step - loss: 0.5550 - accuracy: 0.8750\b\b\b\b\b\b\b\b\b\b\b\b\b\b\b\b\b\b\b\b\b\b\b\b\b\b\b\b\b\b\b\b\b\b\b\b\b\b\b\b\b\b\b\b\b\b\b\b\b\b\b\b\b\b\b\b\b\b\b\b\b\b\b\b\b\r      7/Unknown - 6s 673ms/step - loss: 0.5679 - accuracy: 0.8585\b\b\b\b\b\b\b\b\b\b\b\b\b\b\b\b\b\b\b\b\b\b\b\b\b\b\b\b\b\b\b\b\b\b\b\b\b\b\b\b\b\b\b\b\b\b\b\b\b\b\b\b\b\b\b\b\b\b\b\b\b\b\b\b\b\r7/7 [==============================] - 6s 674ms/step - loss: 0.5679 - accuracy: 0.8585\n",
            "{'loss': 0.5679, 'accuracy': 0.8585, 'classification_report': {'0': {'precision': 0.0, 'recall': 0.0, 'f1-score': 0.0, 'support': 17}, '1': {'precision': 0.8365384615384616, 'recall': 0.9775280898876404, 'f1-score': 0.9015544041450776, 'support': 89}, 'accuracy': 0.8207547169811321, 'macro avg': {'precision': 0.4182692307692308, 'recall': 0.4887640449438202, 'f1-score': 0.4507772020725388, 'support': 106}, 'weighted avg': {'precision': 0.7023766328011611, 'recall': 0.8207547169811321, 'f1-score': 0.7569654902727538, 'support': 106}}, 'y_prediction': array([1, 1, 1, 1, 1, 1, 1, 1, 1, 1, 1, 1, 1, 1, 1, 1, 1, 1, 1, 1, 1, 1,\n",
            "       1, 1, 1, 1, 1, 1, 1, 1, 1, 1, 1, 1, 1, 1, 1, 1, 1, 1, 1, 1, 1, 1,\n",
            "       1, 1, 1, 1, 1, 1, 1, 1, 1, 1, 1, 1, 1, 1, 1, 1, 1, 1, 1, 1, 0, 1,\n",
            "       1, 1, 1, 1, 1, 1, 1, 1, 1, 1, 0, 1, 1, 1, 1, 1, 1, 1, 1, 1, 1, 1,\n",
            "       1, 1, 1, 1, 1, 1, 1, 1, 1, 1, 1, 1, 1, 1, 1, 1, 1, 1]), 'y_true': array([1, 1, 1, 1, 1, 1, 1, 0, 1, 1, 1, 1, 1, 1, 0, 1, 1, 1, 1, 1, 1, 0,\n",
            "       1, 1, 1, 1, 1, 1, 1, 1, 1, 0, 1, 1, 1, 0, 1, 1, 1, 0, 1, 0, 1, 1,\n",
            "       1, 1, 1, 0, 0, 1, 0, 1, 0, 1, 0, 1, 1, 1, 1, 1, 1, 1, 1, 1, 1, 1,\n",
            "       1, 1, 1, 1, 1, 1, 1, 1, 0, 1, 1, 0, 1, 0, 0, 1, 1, 1, 1, 1, 1, 0,\n",
            "       1, 1, 1, 1, 1, 1, 1, 1, 1, 1, 1, 1, 1, 1, 1, 1, 1, 1])}\n",
            "True\n"
          ]
        }
      ]
    },
    {
      "cell_type": "code",
      "metadata": {
        "colab": {
          "base_uri": "https://localhost:8080/"
        },
        "id": "7zTzYaHLUPDe",
        "outputId": "d517faea-e1c2-4343-a9b9-459f3cda8f01"
      },
      "source": [
        "%%bash \n",
        "# rm -rf /content/tf_project_demo/store/\n",
        "# rm -rf /content/tf_project_demo/logs/\n",
        "\n",
        "zip tf_colab.zip /content/tf_project_demo "
      ],
      "execution_count": 49,
      "outputs": [
        {
          "output_type": "stream",
          "name": "stdout",
          "text": [
            "  adding: content/tf_project_demo/ (stored 0%)\n"
          ]
        }
      ]
    },
    {
      "cell_type": "code",
      "metadata": {
        "id": "kSn9Gh7BXFAv"
      },
      "source": [
        ""
      ],
      "execution_count": null,
      "outputs": []
    }
  ]
}